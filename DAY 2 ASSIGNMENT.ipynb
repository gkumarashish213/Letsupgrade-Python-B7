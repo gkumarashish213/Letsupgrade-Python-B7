{
 "cells": [
  {
   "cell_type": "markdown",
   "metadata": {},
   "source": [
    "# List and its default Functions"
   ]
  },
  {
   "cell_type": "code",
   "execution_count": 2,
   "metadata": {},
   "outputs": [
    {
     "name": "stdout",
     "output_type": "stream",
     "text": [
      "3\n"
     ]
    }
   ],
   "source": [
    "a = [\"asish\",\"rishabh\",\"ankur\"]\n",
    "print(len(a))"
   ]
  },
  {
   "cell_type": "code",
   "execution_count": 3,
   "metadata": {},
   "outputs": [],
   "source": [
    "#define a list\n",
    "my_list = [4,7,0,3]"
   ]
  },
  {
   "cell_type": "code",
   "execution_count": 4,
   "metadata": {},
   "outputs": [],
   "source": [
    "#get an iterator using iter()\n",
    "my_iter = iter(my_list)"
   ]
  },
  {
   "cell_type": "code",
   "execution_count": 5,
   "metadata": {},
   "outputs": [
    {
     "name": "stdout",
     "output_type": "stream",
     "text": [
      "4\n"
     ]
    }
   ],
   "source": [
    "#iterate through it using next()\n",
    "\n",
    "#output:4\n",
    "print(next(my_iter))"
   ]
  },
  {
   "cell_type": "code",
   "execution_count": 6,
   "metadata": {},
   "outputs": [
    {
     "name": "stdout",
     "output_type": "stream",
     "text": [
      "7\n"
     ]
    }
   ],
   "source": [
    "#output:7\n",
    "print(next(my_iter))"
   ]
  },
  {
   "cell_type": "code",
   "execution_count": 9,
   "metadata": {},
   "outputs": [
    {
     "name": "stdout",
     "output_type": "stream",
     "text": [
      "0\n"
     ]
    }
   ],
   "source": [
    "#next(obj) is same as obj.__next__()\n",
    "\n",
    "#output:0\n",
    "print(my_iter.__next__())"
   ]
  },
  {
   "cell_type": "code",
   "execution_count": 10,
   "metadata": {},
   "outputs": [
    {
     "name": "stdout",
     "output_type": "stream",
     "text": [
      "3\n"
     ]
    }
   ],
   "source": [
    "#output:3\n",
    "print(my_iter.__next__())"
   ]
  },
  {
   "cell_type": "code",
   "execution_count": 13,
   "metadata": {},
   "outputs": [
    {
     "ename": "StopIteration",
     "evalue": "",
     "output_type": "error",
     "traceback": [
      "\u001b[1;31m---------------------------------------------------------------------------\u001b[0m",
      "\u001b[1;31mStopIteration\u001b[0m                             Traceback (most recent call last)",
      "\u001b[1;32m<ipython-input-13-747e2383e15f>\u001b[0m in \u001b[0;36m<module>\u001b[1;34m\u001b[0m\n\u001b[0;32m      1\u001b[0m \u001b[1;31m#This will raise error,no items left\u001b[0m\u001b[1;33m\u001b[0m\u001b[1;33m\u001b[0m\u001b[1;33m\u001b[0m\u001b[0m\n\u001b[1;32m----> 2\u001b[1;33m \u001b[0mnext\u001b[0m\u001b[1;33m(\u001b[0m\u001b[0mmy_iter\u001b[0m\u001b[1;33m)\u001b[0m\u001b[1;33m\u001b[0m\u001b[1;33m\u001b[0m\u001b[0m\n\u001b[0m",
      "\u001b[1;31mStopIteration\u001b[0m: "
     ]
    }
   ],
   "source": [
    "#This will raise error,no items left\n",
    "next(my_iter)"
   ]
  },
  {
   "cell_type": "code",
   "execution_count": 14,
   "metadata": {},
   "outputs": [
    {
     "name": "stdout",
     "output_type": "stream",
     "text": [
      "4\n",
      "7\n",
      "0\n",
      "3\n"
     ]
    }
   ],
   "source": [
    ">>> for element in my_list:\n",
    "    print (element)"
   ]
  },
  {
   "cell_type": "code",
   "execution_count": 15,
   "metadata": {},
   "outputs": [
    {
     "name": "stdout",
     "output_type": "stream",
     "text": [
      "The largest number is: 9\n"
     ]
    }
   ],
   "source": [
    "number = [1,2,3,4,5,6,7,8,9]\n",
    "largest_number = max(number);\n",
    "\n",
    "print(\"The largest number is:\", largest_number)"
   ]
  },
  {
   "cell_type": "code",
   "execution_count": 16,
   "metadata": {},
   "outputs": [
    {
     "name": "stdout",
     "output_type": "stream",
     "text": [
      "The largest string is: Python\n"
     ]
    }
   ],
   "source": [
    "languages = [\"Python\", \"C Programming\", \"Java\"]\n",
    "largest_string = max(languages);\n",
    "\n",
    "print(\"The largest string is:\", largest_string)"
   ]
  },
  {
   "cell_type": "code",
   "execution_count": 17,
   "metadata": {},
   "outputs": [
    {
     "name": "stdout",
     "output_type": "stream",
     "text": [
      "The smallest number is: 1\n"
     ]
    }
   ],
   "source": [
    "number = [1,2,3,4,5,6,7,8,9]\n",
    "smallest_number = min(number);\n",
    "\n",
    "print(\"The smallest number is:\", smallest_number)"
   ]
  },
  {
   "cell_type": "code",
   "execution_count": 19,
   "metadata": {},
   "outputs": [
    {
     "name": "stdout",
     "output_type": "stream",
     "text": [
      "The smallest string is: C Programming\n"
     ]
    }
   ],
   "source": [
    "languages = [\"Python\", \"C Programming\", \"Java\"]\n",
    "smallest_string = min(languages);\n",
    "\n",
    "print(\"The smallest string is:\", smallest_string)"
   ]
  },
  {
   "cell_type": "code",
   "execution_count": 20,
   "metadata": {},
   "outputs": [
    {
     "name": "stdout",
     "output_type": "stream",
     "text": [
      "[]\n",
      "[0, 1, 2, 3, 4, 5, 6, 7, 8, 9]\n",
      "[1, 2, 3, 4, 5, 6, 7, 8, 9]\n"
     ]
    }
   ],
   "source": [
    "#How range works in python\n",
    "\n",
    "#empty range\n",
    "print(list(range(0)))\n",
    "\n",
    "#using range(stop)\n",
    "print(list(range(10)))\n",
    "\n",
    "#using range(start, stop)\n",
    "print(list(range(1, 10)))"
   ]
  },
  {
   "cell_type": "code",
   "execution_count": 22,
   "metadata": {},
   "outputs": [
    {
     "name": "stdout",
     "output_type": "stream",
     "text": [
      "[2, 4, 6, 8, 10, 12]\n"
     ]
    }
   ],
   "source": [
    "start=2\n",
    "stop=14\n",
    "step=2\n",
    "\n",
    "print(list(range(start, stop, step)))"
   ]
  },
  {
   "cell_type": "markdown",
   "metadata": {},
   "source": [
    "# Dictionary and its default Functions"
   ]
  },
  {
   "cell_type": "code",
   "execution_count": 23,
   "metadata": {},
   "outputs": [
    {
     "name": "stdout",
     "output_type": "stream",
     "text": [
      "d = {}\n"
     ]
    }
   ],
   "source": [
    "d= {1: \"one\", 2: \"two\"}\n",
    "\n",
    "d.clear()\n",
    "print('d =', d)"
   ]
  },
  {
   "cell_type": "code",
   "execution_count": 24,
   "metadata": {},
   "outputs": [
    {
     "name": "stdout",
     "output_type": "stream",
     "text": [
      "original: {1: 'one', 2: 'two'}\n",
      "new: {1: 'one', 2: 'two'}\n"
     ]
    }
   ],
   "source": [
    "original = {1: \"one\", 2: \"two\"}\n",
    "new = original.copy()\n",
    "\n",
    "print('original:', original)\n",
    "print('new:', new)"
   ]
  },
  {
   "cell_type": "code",
   "execution_count": 25,
   "metadata": {},
   "outputs": [
    {
     "name": "stdout",
     "output_type": "stream",
     "text": [
      "Name:  Asish\n",
      "Age:  22\n",
      "Salary:  None\n",
      "Salary:  0.0\n"
     ]
    }
   ],
   "source": [
    "person = {'name': 'Asish', 'age':22}\n",
    "\n",
    "print('Name: ',person.get('name'))\n",
    "print('Age: ',person.get('age'))\n",
    "\n",
    "#value is not provided\n",
    "print('Salary: ',person.get('salary'))\n",
    "\n",
    "#value is provided\n",
    "print('Salary: ',person.get('salary',0.0))"
   ]
  },
  {
   "cell_type": "code",
   "execution_count": 26,
   "metadata": {},
   "outputs": [
    {
     "name": "stdout",
     "output_type": "stream",
     "text": [
      "original items: dict_items([('apple', 2), ('orange', 3), ('grapes', 4)])\n",
      "updated items: dict_items([('orange', 3), ('grapes', 4)])\n"
     ]
    }
   ],
   "source": [
    "#random sales dictionary\n",
    "sales = { 'apple': 2, 'orange': 3, 'grapes' : 4}\n",
    "\n",
    "items = sales.items()\n",
    "print('original items:', items)\n",
    "\n",
    "#delete an item from dictionary\n",
    "del[sales['apple']]\n",
    "print('updated items:',items)"
   ]
  },
  {
   "cell_type": "code",
   "execution_count": 28,
   "metadata": {},
   "outputs": [
    {
     "name": "stdout",
     "output_type": "stream",
     "text": [
      "dict_keys(['name', 'age', 'salary'])\n",
      "dict_keys([])\n"
     ]
    }
   ],
   "source": [
    "person = {'name': 'Asish', 'age': 22, 'salary':3500.0}\n",
    "print(person.keys())\n",
    "\n",
    "empty_dict = {}\n",
    "print(empty_dict.keys())"
   ]
  },
  {
   "cell_type": "code",
   "execution_count": 29,
   "metadata": {},
   "outputs": [
    {
     "name": "stdout",
     "output_type": "stream",
     "text": [
      "The popped element is: 2\n",
      "The dictionary is: {'orange': 3, 'grapes': 4}\n"
     ]
    }
   ],
   "source": [
    "#random sales dictionary\n",
    "sales = { 'apple': 2, 'orange': 3, 'grapes' : 4}\n",
    "\n",
    "element = sales.pop('apple')\n",
    "print('The popped element is:',element)\n",
    "print('The dictionary is:',sales)"
   ]
  },
  {
   "cell_type": "code",
   "execution_count": 30,
   "metadata": {},
   "outputs": [
    {
     "name": "stdout",
     "output_type": "stream",
     "text": [
      "Return value = ('salary', 3500.0)\n",
      "Person = {'name': 'Asish', 'age': 22}\n",
      "Return value = ('profession', 'Plumber')\n",
      "Person = {'name': 'Asish', 'age': 22}\n"
     ]
    }
   ],
   "source": [
    "person = {'name': 'Asish', 'age': 22, 'salary':3500.0}\n",
    "\n",
    "#('salary',3500.0)is inserted at the last,so it is removed.\n",
    "result=person.popitem()\n",
    "\n",
    "print('Return value =', result)\n",
    "print('Person =', person)\n",
    "\n",
    "#inserting a new element pair\n",
    "person['profession'] = 'Plumber'\n",
    "\n",
    "#now ('profession', 'plumber')is the lastest element\n",
    "result=person.popitem()\n",
    "\n",
    "print('Return value =', result)\n",
    "print('Person =', person)"
   ]
  },
  {
   "cell_type": "code",
   "execution_count": 31,
   "metadata": {},
   "outputs": [
    {
     "name": "stdout",
     "output_type": "stream",
     "text": [
      "Person = {'name': 'Asish', 'age': 22}\n",
      "Age = 22\n"
     ]
    }
   ],
   "source": [
    "person = {'name': 'Asish', 'age':22}\n",
    "\n",
    "age=person.setdefault('age')\n",
    "print('Person =', person)\n",
    "print('Age =', age)"
   ]
  },
  {
   "cell_type": "code",
   "execution_count": 32,
   "metadata": {},
   "outputs": [
    {
     "name": "stdout",
     "output_type": "stream",
     "text": [
      "{1: 'one', 2: 'two'}\n",
      "{1: 'one', 2: 'two', 3: 'three'}\n"
     ]
    }
   ],
   "source": [
    "d= {1: \"one\", 2: \"three\"}\n",
    "d1= {2: \"two\"}\n",
    "\n",
    "#update the value of key 2\n",
    "d.update(d1)\n",
    "print(d)\n",
    "\n",
    "d1= {3: \"three\"}\n",
    "\n",
    "#adds element with key 3\n",
    "d.update(d1)\n",
    "print(d)"
   ]
  },
  {
   "cell_type": "code",
   "execution_count": 33,
   "metadata": {},
   "outputs": [
    {
     "name": "stdout",
     "output_type": "stream",
     "text": [
      "dict_values([2, 3, 4])\n"
     ]
    }
   ],
   "source": [
    "#random sales dictionary\n",
    "sales = { 'apple': 2, 'orange': 3, 'grapes' : 4}\n",
    "\n",
    "print(sales.values())"
   ]
  },
  {
   "cell_type": "markdown",
   "metadata": {},
   "source": [
    "# Sets and its default Functions"
   ]
  },
  {
   "cell_type": "code",
   "execution_count": 2,
   "metadata": {},
   "outputs": [
    {
     "name": "stdout",
     "output_type": "stream",
     "text": [
      "vowels are: {'o', 'i', 'u', 'a', 'e'}\n",
      "vowels are: {'o', 'i', 'u', 'a', 'e'}\n"
     ]
    }
   ],
   "source": [
    "#set of vowels\n",
    "vowels = {'a','e', 'i', 'u'}\n",
    "\n",
    "#adding 'o'\n",
    "vowels.add('o')\n",
    "print('vowels are:',vowels)\n",
    "\n",
    "#adding 'a' again\n",
    "vowels.add('a')\n",
    "print('vowels are:',vowels)"
   ]
  },
  {
   "cell_type": "code",
   "execution_count": 3,
   "metadata": {},
   "outputs": [
    {
     "name": "stdout",
     "output_type": "stream",
     "text": [
      "vowels(before clear): {'o', 'i', 'u', 'a', 'e'}\n",
      "vowels(after clear): set()\n"
     ]
    }
   ],
   "source": [
    "#set of vowels\n",
    "vowels = {'a', 'e', 'i', 'o', 'u'}\n",
    "print('vowels(before clear):', vowels)\n",
    "\n",
    "#clearing vowels\n",
    "vowels.clear()\n",
    "print('vowels(after clear):', vowels)"
   ]
  },
  {
   "cell_type": "code",
   "execution_count": 4,
   "metadata": {},
   "outputs": [
    {
     "name": "stdout",
     "output_type": "stream",
     "text": [
      "numbers: {1, 2, 3, 4, 5}\n",
      "new_numbers: {1, 2, 3, 4, 5}\n"
     ]
    }
   ],
   "source": [
    "numbers = {1,2,3,4}\n",
    "new_numbers = numbers\n",
    "\n",
    "new_numbers.add(5)\n",
    "\n",
    "print('numbers:', numbers)\n",
    "print('new_numbers:', new_numbers)"
   ]
  },
  {
   "cell_type": "code",
   "execution_count": 5,
   "metadata": {},
   "outputs": [
    {
     "name": "stdout",
     "output_type": "stream",
     "text": [
      "{'a', 'b', 'd'}\n",
      "{'g', 'f'}\n"
     ]
    }
   ],
   "source": [
    "A = {'a', 'b', 'c','d'}\n",
    "B = {'c', 'f', 'g'}\n",
    "\n",
    "#Equivalent to A-B\n",
    "print(A.difference(B))\n",
    "\n",
    "#Equivalent to B-A\n",
    "print(B.difference(A))"
   ]
  },
  {
   "cell_type": "code",
   "execution_count": 7,
   "metadata": {},
   "outputs": [
    {
     "name": "stdout",
     "output_type": "stream",
     "text": [
      "A =  {'a', 'b', 'd'}\n",
      "B =  {'c', 'g', 'f'}\n",
      "result =  None\n"
     ]
    }
   ],
   "source": [
    "A = {'a', 'b', 'c','d'}\n",
    "B = {'c', 'f', 'g'}\n",
    "\n",
    "result = A.difference_update(B)\n",
    "\n",
    "print('A = ', A)\n",
    "print('B = ', B)\n",
    "print('result = ', result)"
   ]
  },
  {
   "cell_type": "code",
   "execution_count": 8,
   "metadata": {},
   "outputs": [
    {
     "name": "stdout",
     "output_type": "stream",
     "text": [
      "Return value is a\n",
      "A =  {'b', 'd', 'c'}\n"
     ]
    }
   ],
   "source": [
    "A = {'a', 'b', 'c','d'}\n",
    "\n",
    "print('Return value is', A.pop())\n",
    "print('A = ', A)"
   ]
  },
  {
   "cell_type": "code",
   "execution_count": 10,
   "metadata": {},
   "outputs": [
    {
     "name": "stdout",
     "output_type": "stream",
     "text": [
      "updated language set: {'French', 'English'}\n"
     ]
    }
   ],
   "source": [
    "#language set\n",
    "language = {'English', 'French', 'German'}\n",
    "\n",
    "#removing 'German' from language\n",
    "language.remove('German')\n",
    "\n",
    "#updated language set\n",
    "print('updated language set:', language)"
   ]
  },
  {
   "cell_type": "code",
   "execution_count": 11,
   "metadata": {},
   "outputs": [
    {
     "name": "stdout",
     "output_type": "stream",
     "text": [
      "A U B = {2, 'd', 'a', 'c'}\n",
      "B U C = {1, 2, 3, 'd', 'c'}\n",
      "A U B U C = {1, 2, 3, 'd', 'a', 'c'}\n",
      "A.union()= {'a', 'd', 'c'}\n"
     ]
    }
   ],
   "source": [
    "A = {'a', 'c', 'd'}\n",
    "B = {'c', 'd', 2}\n",
    "C = {1,2,3}\n",
    "\n",
    "print('A U B =', A.union(B))\n",
    "print('B U C =', B.union(C))\n",
    "print('A U B U C =', A.union(B, C))\n",
    "print('A.union()=', A.union())"
   ]
  },
  {
   "cell_type": "code",
   "execution_count": 12,
   "metadata": {},
   "outputs": [
    {
     "name": "stdout",
     "output_type": "stream",
     "text": [
      "A =  {1, 2, 3, 'a', 'b'}\n",
      "result =  None\n"
     ]
    }
   ],
   "source": [
    "A = {'a', 'b'}\n",
    "B = {1,2,3}\n",
    "\n",
    "result = A.update(B)\n",
    "print('A = ', A)\n",
    "print('result = ', result)"
   ]
  },
  {
   "cell_type": "markdown",
   "metadata": {},
   "source": [
    "# Tuple and explore default methods"
   ]
  },
  {
   "cell_type": "code",
   "execution_count": 13,
   "metadata": {},
   "outputs": [
    {
     "name": "stdout",
     "output_type": "stream",
     "text": [
      "The count of i is: 2\n",
      "The count of p is: 0\n"
     ]
    }
   ],
   "source": [
    "#Use of Tuple count()\n",
    "\n",
    "#Vowels tuple\n",
    "vowels = ('a', 'e', 'i', 'o', 'i', 'u')\n",
    "\n",
    "#count element 'i'\n",
    "count = vowels.count('i')\n",
    "\n",
    "#print count\n",
    "print('The count of i is:', count)\n",
    "\n",
    "#count element 'p'\n",
    "count = vowels.count('p')\n",
    "\n",
    "#print count\n",
    "print('The count of p is:', count)"
   ]
  },
  {
   "cell_type": "code",
   "execution_count": 14,
   "metadata": {},
   "outputs": [
    {
     "name": "stdout",
     "output_type": "stream",
     "text": [
      "The index of e: 1\n",
      "The index of i: 2\n"
     ]
    }
   ],
   "source": [
    "#Vowels tuple\n",
    "vowels = ('a', 'e', 'i', 'o', 'i', 'u')\n",
    "\n",
    "#index of 'e' in vowels\n",
    "index=vowels.index('e')\n",
    "print('The index of e:', index)\n",
    "\n",
    "#element of i is searched\n",
    "#index of the first 'i' is returned\n",
    "index = vowels.index('i')\n",
    "\n",
    "print('The index of i:', index)"
   ]
  },
  {
   "cell_type": "markdown",
   "metadata": {},
   "source": [
    "# String and explore default methods"
   ]
  },
  {
   "cell_type": "code",
   "execution_count": 15,
   "metadata": {},
   "outputs": [
    {
     "name": "stdout",
     "output_type": "stream",
     "text": [
      "The count is: 2\n"
     ]
    }
   ],
   "source": [
    "#define string\n",
    "string = \"Python is awesome,isn't it?\"\n",
    "substring = \"is\"\n",
    "\n",
    "count = string.count(substring)\n",
    "\n",
    "#print count\n",
    "print(\"The count is:\", count)"
   ]
  },
  {
   "cell_type": "code",
   "execution_count": 16,
   "metadata": {},
   "outputs": [
    {
     "name": "stdout",
     "output_type": "stream",
     "text": [
      "Old String:  python is AWesome.\n",
      "Capitalized String: Python is awesome.\n"
     ]
    }
   ],
   "source": [
    "string = \"python is AWesome.\"\n",
    "\n",
    "capitalized_string = string.capitalize()\n",
    "\n",
    "print('Old String: ', string)\n",
    "print('Capitalized String:', capitalized_string)"
   ]
  },
  {
   "cell_type": "code",
   "execution_count": 17,
   "metadata": {},
   "outputs": [
    {
     "name": "stdout",
     "output_type": "stream",
     "text": [
      "The string is: pythön!\n",
      "The encoded version is: b'pyth\\xc3\\xb6n!'\n"
     ]
    }
   ],
   "source": [
    "# unicode string\n",
    "string = 'pythön!'\n",
    "\n",
    "# print string\n",
    "print('The string is:', string)\n",
    "\n",
    "# default encoding to utf-8\n",
    "string_utf = string.encode()\n",
    "\n",
    "# print result\n",
    "print('The encoded version is:', string_utf)"
   ]
  },
  {
   "cell_type": "code",
   "execution_count": 18,
   "metadata": {},
   "outputs": [
    {
     "name": "stdout",
     "output_type": "stream",
     "text": [
      "Centered String:     Python is awesome    \n"
     ]
    }
   ],
   "source": [
    "string = \"Python is awesome\"\n",
    "\n",
    "new_string = string.center(24)\n",
    "\n",
    "print(\"Centered String: \", new_string)"
   ]
  },
  {
   "cell_type": "code",
   "execution_count": 19,
   "metadata": {},
   "outputs": [
    {
     "name": "stdout",
     "output_type": "stream",
     "text": [
      "True\n",
      "True\n",
      "False\n"
     ]
    }
   ],
   "source": [
    "s = 'this is good'\n",
    "print(s.islower())\n",
    "\n",
    "s = 'th!s is a1so g00d'\n",
    "print(s.islower())\n",
    "\n",
    "s = 'this is Not good'\n",
    "print(s.islower())"
   ]
  },
  {
   "cell_type": "code",
   "execution_count": null,
   "metadata": {},
   "outputs": [],
   "source": []
  }
 ],
 "metadata": {
  "kernelspec": {
   "display_name": "Python 3",
   "language": "python",
   "name": "python3"
  },
  "language_info": {
   "codemirror_mode": {
    "name": "ipython",
    "version": 3
   },
   "file_extension": ".py",
   "mimetype": "text/x-python",
   "name": "python",
   "nbconvert_exporter": "python",
   "pygments_lexer": "ipython3",
   "version": "3.7.4"
  }
 },
 "nbformat": 4,
 "nbformat_minor": 2
}
